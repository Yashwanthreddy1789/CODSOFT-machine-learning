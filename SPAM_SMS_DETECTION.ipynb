{
  "nbformat": 4,
  "nbformat_minor": 0,
  "metadata": {
    "colab": {
      "provenance": [],
      "authorship_tag": "ABX9TyM8HZncPVj8u9o5QAFm6K5R",
      "include_colab_link": true
    },
    "kernelspec": {
      "name": "python3",
      "display_name": "Python 3"
    },
    "language_info": {
      "name": "python"
    }
  },
  "cells": [
    {
      "cell_type": "markdown",
      "metadata": {
        "id": "view-in-github",
        "colab_type": "text"
      },
      "source": [
        "<a href=\"https://colab.research.google.com/github/Yashwanthreddy1789/machine-learning/blob/main/SPAM_SMS_DETECTION.ipynb\" target=\"_parent\"><img src=\"https://colab.research.google.com/assets/colab-badge.svg\" alt=\"Open In Colab\"/></a>"
      ]
    },
    {
      "cell_type": "code",
      "execution_count": 1,
      "metadata": {
        "id": "JXntZxuPKd94"
      },
      "outputs": [],
      "source": [
        "import pandas as pd\n",
        "import numpy as np\n",
        "import matplotlib.pyplot as plt\n",
        "import seaborn as sns\n",
        "from sklearn.model_selection import train_test_split\n",
        "from sklearn.feature_extraction.text import TfidfVectorizer\n",
        "from sklearn.naive_bayes import MultinomialNB\n",
        "from sklearn.linear_model import LogisticRegression\n",
        "from sklearn.svm import SVC\n",
        "from sklearn.metrics import classification_report, confusion_matrix, accuracy_score"
      ]
    },
    {
      "cell_type": "code",
      "source": [
        "# Load the Data\n",
        "file_path = '/content/spam.csv'\n",
        "df = pd.read_csv(file_path, encoding='latin-1')"
      ],
      "metadata": {
        "id": "8B7f0x7RLiLv"
      },
      "execution_count": 2,
      "outputs": []
    },
    {
      "cell_type": "code",
      "source": [
        "# Examine the structure of the Data\n",
        "print(df.head())"
      ],
      "metadata": {
        "colab": {
          "base_uri": "https://localhost:8080/"
        },
        "id": "QhzkFuSHLrYi",
        "outputId": "b00774be-6b1a-4882-d4ae-29c21e017015"
      },
      "execution_count": 3,
      "outputs": [
        {
          "output_type": "stream",
          "name": "stdout",
          "text": [
            "     v1                                                 v2 Unnamed: 2  \\\n",
            "0   ham  Go until jurong point, crazy.. Available only ...        NaN   \n",
            "1   ham                      Ok lar... Joking wif u oni...        NaN   \n",
            "2  spam  Free entry in 2 a wkly comp to win FA Cup fina...        NaN   \n",
            "3   ham  U dun say so early hor... U c already then say...        NaN   \n",
            "4   ham  Nah I don't think he goes to usf, he lives aro...        NaN   \n",
            "\n",
            "  Unnamed: 3 Unnamed: 4  \n",
            "0        NaN        NaN  \n",
            "1        NaN        NaN  \n",
            "2        NaN        NaN  \n",
            "3        NaN        NaN  \n",
            "4        NaN        NaN  \n"
          ]
        }
      ]
    },
    {
      "cell_type": "code",
      "source": [
        "# Data Preprocessing\n",
        "df = df[['v1', 'v2']]  # Selecting relevant columns\n",
        "df.columns = ['label', 'message']  # Renaming columns\n",
        "df['label'] = df['label'].map({'ham': 0, 'spam': 1})  # Encoding labels\n",
        "X = df['message']\n",
        "y = df['label']"
      ],
      "metadata": {
        "colab": {
          "base_uri": "https://localhost:8080/"
        },
        "id": "MfcK1d0MLugo",
        "outputId": "c8f49d68-a97a-4710-fe1c-a0b4355d6ff0"
      },
      "execution_count": 4,
      "outputs": [
        {
          "output_type": "stream",
          "name": "stderr",
          "text": [
            "<ipython-input-4-97cac7ef8560>:4: SettingWithCopyWarning: \n",
            "A value is trying to be set on a copy of a slice from a DataFrame.\n",
            "Try using .loc[row_indexer,col_indexer] = value instead\n",
            "\n",
            "See the caveats in the documentation: https://pandas.pydata.org/pandas-docs/stable/user_guide/indexing.html#returning-a-view-versus-a-copy\n",
            "  df['label'] = df['label'].map({'ham': 0, 'spam': 1})  # Encoding labels\n"
          ]
        }
      ]
    },
    {
      "cell_type": "code",
      "source": [
        "# Train-Test Split\n",
        "X_train, X_test, y_train, y_test = train_test_split(X, y, test_size=0.2, random_state=42)\n"
      ],
      "metadata": {
        "id": "Pl0F1KU3L8E9"
      },
      "execution_count": 5,
      "outputs": []
    },
    {
      "cell_type": "code",
      "source": [
        "# Feature Extraction using TF-IDF\n",
        "tfidf = TfidfVectorizer()\n",
        "X_train_tfidf = tfidf.fit_transform(X_train)\n",
        "X_test_tfidf = tfidf.transform(X_test)"
      ],
      "metadata": {
        "id": "sJ1oKxcxL_4C"
      },
      "execution_count": 6,
      "outputs": []
    },
    {
      "cell_type": "code",
      "source": [
        "# Classifiers\n",
        "classifiers = {\n",
        "    'Naive Bayes': MultinomialNB(),\n",
        "    'Logistic Regression': LogisticRegression(max_iter=1000),\n",
        "    'Support Vector Machine': SVC()\n",
        "}"
      ],
      "metadata": {
        "id": "zqwm-kNsMDRg"
      },
      "execution_count": 7,
      "outputs": []
    },
    {
      "cell_type": "code",
      "source": [
        "results = {}"
      ],
      "metadata": {
        "id": "f8R9TDQNMK41"
      },
      "execution_count": 8,
      "outputs": []
    },
    {
      "cell_type": "code",
      "source": [
        "# Training and Evaluating Models\n",
        "for name, clf in classifiers.items():\n",
        "    clf.fit(X_train_tfidf, y_train)\n",
        "    y_pred = clf.predict(X_test_tfidf)\n",
        "\n",
        "    acc = accuracy_score(y_test, y_pred)\n",
        "    results[name] = {\n",
        "        'Accuracy': acc,\n",
        "        'Classification Report': classification_report(y_test, y_pred, output_dict=True)\n",
        "    }"
      ],
      "metadata": {
        "id": "cgBDTjPHMRnN"
      },
      "execution_count": 9,
      "outputs": []
    },
    {
      "cell_type": "code",
      "source": [
        "# Visualization of Results\n",
        "plt.figure(figsize=(10, 6))\n",
        "sns.barplot(x=list(results.keys()), y=[result['Accuracy'] for result in results.values()])\n",
        "plt.title('Classifier Accuracy Comparison')\n",
        "plt.ylabel('Accuracy')\n",
        "plt.xlabel('Classifier')\n",
        "plt.ylim(0, 1)\n",
        "plt.show()"
      ],
      "metadata": {
        "colab": {
          "base_uri": "https://localhost:8080/",
          "height": 564
        },
        "id": "70_ILeV5Madn",
        "outputId": "188c8b6c-1b73-4a1d-9e2a-25dff52d1dd7"
      },
      "execution_count": 10,
      "outputs": [
        {
          "output_type": "display_data",
          "data": {
            "text/plain": [
              "<Figure size 1000x600 with 1 Axes>"
            ],
            "image/png": "[encoded data removed]"
          },
          "metadata": {}
        }
      ]
    },
    {
      "cell_type": "code",
      "source": [
        "# Displaying Classification Reports\n",
        "for name, result in results.items():\n",
        "    print(f\"--- {name} ---\")\n",
        "    print(result['Classification Report'])"
      ],
      "metadata": {
        "colab": {
          "base_uri": "https://localhost:8080/"
        },
        "id": "D9lo9kmoMduN",
        "outputId": "05221988-742a-4917-d232-08e43aa41c8b"
      },
      "execution_count": 11,
      "outputs": [
        {
          "output_type": "stream",
          "name": "stdout",
          "text": [
            "--- Naive Bayes ---\n",
            "{'0': {'precision': 0.958291956305859, 'recall': 1.0, 'f1-score': 0.9787018255578094, 'support': 965.0}, '1': {'precision': 1.0, 'recall': 0.72, 'f1-score': 0.8372093023255814, 'support': 150.0}, 'accuracy': 0.9623318385650225, 'macro avg': {'precision': 0.9791459781529295, 'recall': 0.86, 'f1-score': 0.9079555639416954, 'support': 1115.0}, 'weighted avg': {'precision': 0.9639029038880305, 'recall': 0.9623318385650225, 'f1-score': 0.9596669569615457, 'support': 1115.0}}\n",
            "--- Logistic Regression ---\n",
            "{'0': {'precision': 0.964964964964965, 'recall': 0.9989637305699481, 'f1-score': 0.9816700610997964, 'support': 965.0}, '1': {'precision': 0.9913793103448276, 'recall': 0.7666666666666667, 'f1-score': 0.8646616541353384, 'support': 150.0}, 'accuracy': 0.967713004484305, 'macro avg': {'precision': 0.9781721376548963, 'recall': 0.8828151986183075, 'f1-score': 0.9231658576175674, 'support': 1115.0}, 'weighted avg': {'precision': 0.9685184643434218, 'recall': 0.967713004484305, 'f1-score': 0.9659290198041293, 'support': 1115.0}}\n",
            "--- Support Vector Machine ---\n",
            "{'0': {'precision': 0.9796954314720813, 'recall': 1.0, 'f1-score': 0.9897435897435898, 'support': 965.0}, '1': {'precision': 1.0, 'recall': 0.8666666666666667, 'f1-score': 0.9285714285714286, 'support': 150.0}, 'accuracy': 0.9820627802690582, 'macro avg': {'precision': 0.9898477157360406, 'recall': 0.9333333333333333, 'f1-score': 0.9591575091575092, 'support': 1115.0}, 'weighted avg': {'precision': 0.9824269877762856, 'recall': 0.9820627802690582, 'f1-score': 0.9815141510208775, 'support': 1115.0}}\n"
          ]
        }
      ]
    }
  ]
}